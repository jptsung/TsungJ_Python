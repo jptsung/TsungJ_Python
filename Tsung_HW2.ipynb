{
 "cells": [
  {
   "cell_type": "code",
   "execution_count": 267,
   "metadata": {
    "collapsed": false
   },
   "outputs": [
    {
     "name": "stdout",
     "output_type": "stream",
     "text": [
      "0\n",
      "1\n",
      "1\n",
      "2\n",
      "3\n",
      "5\n",
      "8\n",
      "13\n",
      "21\n",
      "34\n",
      "55\n",
      "89\n",
      "144\n",
      "233\n",
      "377\n",
      "610\n",
      "987\n"
     ]
    }
   ],
   "source": [
    "#Question 1: Define a 'fib' that takes a number, 'n', as a parameter and prints all the Fib numbers less than 'n'\n",
    "\n",
    "def fib(n): #defines the fib function\n",
    "    \n",
    "    a,b = 0,1 #initializing a to 0 and b to 1 as the first two values in the sequence\n",
    "    while a < n: #loops through until condition is met on the fib function where a is the fib num that is less than n\n",
    "        print(a) #prints a \n",
    "        a, b = b, a+b #each subsequent number is the sum of the previous two\n",
    "        #a(x) = a + b as the function\n",
    "        #a(x) = a == b as b becomes a\n",
    "        #b = x == a+b as b becomes equal to the function\n",
    "    \n",
    "fib(1000) #prints all the Fibonacci numbers less than 'n' = 1000 to the screen "
   ]
  },
  {
   "cell_type": "code",
   "execution_count": 268,
   "metadata": {
    "collapsed": false
   },
   "outputs": [
    {
     "data": {
      "text/plain": [
       "32"
      ]
     },
     "execution_count": 268,
     "metadata": {},
     "output_type": "execute_result"
    }
   ],
   "source": [
    "#Question 2: Define a function mymax() that takes two numbers as arguments and returns the largest of them. \n",
    "#Use the if-then-else construct\n",
    "\n",
    "def mymax(a,b): #function that takes two numbers as arguments\n",
    "\n",
    "    if a >= b: #if a is greater than or equal to b\n",
    "        return (a) #then display a\n",
    "    else: #otherwise,\n",
    "        return (b) #you know b is greater, so display b\n",
    "        \n",
    "mymax(23,32) #when b is greater"
   ]
  },
  {
   "cell_type": "code",
   "execution_count": 269,
   "metadata": {
    "collapsed": false
   },
   "outputs": [
    {
     "data": {
      "text/plain": [
       "55"
      ]
     },
     "execution_count": 269,
     "metadata": {},
     "output_type": "execute_result"
    }
   ],
   "source": [
    "mymax (55,33) #when a is greater"
   ]
  },
  {
   "cell_type": "code",
   "execution_count": 270,
   "metadata": {
    "collapsed": false
   },
   "outputs": [
    {
     "data": {
      "text/plain": [
       "55"
      ]
     },
     "execution_count": 270,
     "metadata": {},
     "output_type": "execute_result"
    }
   ],
   "source": [
    "#Question 3: Define a function max_of_three() that takes three numbers and returns the largest\n",
    "\n",
    "def max_of_three (a,b,c): #compares a to b, a to c, and b to c\n",
    "    \n",
    "    while a >= b and a >= c: #if a is greater or equal to both b and c\n",
    "        return (a) #then return value of 'a' because it is the greatest\n",
    "    while b >= c and b >= a: #if b is greater or equal to both a and c\n",
    "        return (b) #then return value of 'b' because it is the greatest\n",
    "    else: #otherwise\n",
    "        return (c) #return c\n",
    "        \n",
    "max_of_three(33,55,3) #returns the largest value with b as the greatest"
   ]
  },
  {
   "cell_type": "code",
   "execution_count": 271,
   "metadata": {
    "collapsed": false
   },
   "outputs": [
    {
     "data": {
      "text/plain": [
       "77"
      ]
     },
     "execution_count": 271,
     "metadata": {},
     "output_type": "execute_result"
    }
   ],
   "source": [
    "max_of_three(77,55,33) #when a is greatest"
   ]
  },
  {
   "cell_type": "code",
   "execution_count": 272,
   "metadata": {
    "collapsed": false
   },
   "outputs": [
    {
     "data": {
      "text/plain": [
       "73"
      ]
     },
     "execution_count": 272,
     "metadata": {},
     "output_type": "execute_result"
    }
   ],
   "source": [
    "max_of_three(33,55,73) #when c is greatest"
   ]
  },
  {
   "cell_type": "code",
   "execution_count": 273,
   "metadata": {
    "collapsed": false,
    "scrolled": true
   },
   "outputs": [
    {
     "data": {
      "text/plain": [
       "55"
      ]
     },
     "execution_count": 273,
     "metadata": {},
     "output_type": "execute_result"
    }
   ],
   "source": [
    "max_of_three(33,55,55) #with a tie"
   ]
  },
  {
   "cell_type": "code",
   "execution_count": 317,
   "metadata": {
    "collapsed": false
   },
   "outputs": [
    {
     "data": {
      "text/plain": [
       "10"
      ]
     },
     "execution_count": 317,
     "metadata": {},
     "output_type": "execute_result"
    }
   ],
   "source": [
    "#Question 4: Define a function mylen() that computes length of a list or string\n",
    "\n",
    "def mylen(string): #function takes string \n",
    "    \n",
    "    length = 0 #set length to 0 unless otherwise\n",
    "    for x in string: \n",
    "        length = length + 1 #adding 1 for every count\n",
    "    return (length)\n",
    "\n",
    "mylen('Georgetown')\n"
   ]
  },
  {
   "cell_type": "code",
   "execution_count": 275,
   "metadata": {
    "collapsed": false
   },
   "outputs": [
    {
     "data": {
      "text/plain": [
       "False"
      ]
     },
     "execution_count": 275,
     "metadata": {},
     "output_type": "execute_result"
    }
   ],
   "source": [
    "#Question 5: Write a function that takes a character and returns 'True' if vowel, 'False' if otherwise\n",
    "\n",
    "def letter(alphabet): #defines the function\n",
    "    \n",
    "    while alphabet in \"Yy\": #Y and y are an exception\n",
    "        return \"Sometimes\" #Y can sometimes be a vowel\n",
    "    if alphabet in \"AaEeIiOoUu\": #if the alphabetical letter is a vowel\n",
    "        return True #then return True\n",
    "    else: #Otherwise\n",
    "        return False #it will return False\n",
    "    \n",
    "letter(\"G\") #testing the function with the best letter"
   ]
  },
  {
   "cell_type": "code",
   "execution_count": 276,
   "metadata": {
    "collapsed": false
   },
   "outputs": [
    {
     "data": {
      "text/plain": [
       "True"
      ]
     },
     "execution_count": 276,
     "metadata": {},
     "output_type": "execute_result"
    }
   ],
   "source": [
    "letter (\"E\") #testing the function with a vowel"
   ]
  },
  {
   "cell_type": "code",
   "execution_count": 277,
   "metadata": {
    "collapsed": false
   },
   "outputs": [
    {
     "data": {
      "text/plain": [
       "'Sometimes'"
      ]
     },
     "execution_count": 277,
     "metadata": {},
     "output_type": "execute_result"
    }
   ],
   "source": [
    "letter (\"Y\") #testing function with Y, sometimes a vowel and sometimes a consonant"
   ]
  },
  {
   "cell_type": "code",
   "execution_count": 318,
   "metadata": {
    "collapsed": false
   },
   "outputs": [
    {
     "data": {
      "text/plain": [
       "'Umombobrorelollola'"
      ]
     },
     "execution_count": 318,
     "metadata": {},
     "output_type": "execute_result"
    }
   ],
   "source": [
    "#Question 6: Write a function translate() that will translate a text into \"rovarspraket\"\n",
    "#double every consonant and place an occurrence of \"o\" in between\n",
    "#EX: \"this is fun\" returns the string \"tothohisos isos fofunon\"\n",
    "\n",
    "def translate(x): #defines the function translate()\n",
    "    \n",
    "    letter = \"\" #initialize letter as a blank\n",
    "    for consonant in x:\n",
    "        if consonant not in (\"AaEeIiOoUu\"): #consonant not a vowel (doesn't include Y or y)\n",
    "            letter = letter + consonant + \"o\" + consonant #translates word to adding an o and the same consonant\n",
    "        else:\n",
    "            letter = letter + consonant #if vowel, then just continue with next consonant\n",
    "    return (letter) #returns the letter(s), letter-by-letter\n",
    "    \n",
    "translate(\"Umbrella\") #translating Umbrella to test out case-sensitivity in vowels"
   ]
  },
  {
   "cell_type": "code",
   "execution_count": 319,
   "metadata": {
    "collapsed": false
   },
   "outputs": [
    {
     "data": {
      "text/plain": [
       "'tothohisos o isos o fofunon'"
      ]
     },
     "execution_count": 319,
     "metadata": {},
     "output_type": "execute_result"
    }
   ],
   "source": [
    "translate (\"this is fun\") #translating the example phrase"
   ]
  },
  {
   "cell_type": "code",
   "execution_count": 320,
   "metadata": {
    "collapsed": false
   },
   "outputs": [
    {
     "data": {
      "text/plain": [
       "10"
      ]
     },
     "execution_count": 320,
     "metadata": {},
     "output_type": "execute_result"
    }
   ],
   "source": [
    "#Question 7, Part 1: Define a function sum() that sums all numbers in a list of numbers\n",
    "\n",
    "def sum(numbers): #defining the additive function\n",
    "    \n",
    "    x = 0 #initialize\n",
    "    for digits in numbers: x = x + digits #for the numbers in the function, x will add and then compute digits after each loop\n",
    "    return x #x will then be returned\n",
    "\n",
    "sum([1,2,3,4])  #testing the addition of the list of numbers of 1,2,3 and 4"
   ]
  },
  {
   "cell_type": "code",
   "execution_count": 321,
   "metadata": {
    "collapsed": false
   },
   "outputs": [
    {
     "data": {
      "text/plain": [
       "24"
      ]
     },
     "execution_count": 321,
     "metadata": {},
     "output_type": "execute_result"
    }
   ],
   "source": [
    "#Question 7, Part 2: Define a function multiply() that multiplies all numbers in a list of numbers\n",
    "\n",
    "def multiply (nums):\n",
    "    \n",
    "    mult = 1 #initialize mult\n",
    "    for digits in nums: mult = mult * digits #for loop computes the multiple of one digit per loop\n",
    "    return mult #returns the solution\n",
    "\n",
    "multiply ([1,2,3,4]) #testing multiplication of the list of numbers 1-4"
   ]
  },
  {
   "cell_type": "code",
   "execution_count": 322,
   "metadata": {
    "collapsed": false
   },
   "outputs": [
    {
     "data": {
      "text/plain": [
       "'gnitset ma I'"
      ]
     },
     "execution_count": 322,
     "metadata": {},
     "output_type": "execute_result"
    }
   ],
   "source": [
    "#Question 8: Define a function reverse() that computes the reversal of a string\n",
    "#EX: reverse (\"I am testing\") to return \"gnitset ma I\"\n",
    "\n",
    "def reverse (string):\n",
    "   \n",
    "    word = \"\" #initialize word\n",
    "    for x in reversed(string): #for loop reverses the string for each letter\n",
    "        word = word + x #places reversed word letters in order\n",
    "    return word #returns the new word\n",
    "\n",
    "reverse(\"I am testing\")"
   ]
  },
  {
   "cell_type": "code",
   "execution_count": 283,
   "metadata": {
    "collapsed": false
   },
   "outputs": [
    {
     "data": {
      "text/plain": [
       "False"
      ]
     },
     "execution_count": 283,
     "metadata": {},
     "output_type": "execute_result"
    }
   ],
   "source": [
    "#Question 9: Define a function is_palindrome() that recognizes words that look the same written backwards\n",
    "#EX: radar is a palindrome; should return True\n",
    "\n",
    "def is_palindrome(word): #this solution inspired from stackoverflow with the [begin:end:step]\n",
    "    \n",
    "    while word == word[::-1]: #reverses a string by [begin:end:step]; skips begin and end, and defines step as -1 to reverse\n",
    "        return (True) #returns 'True' if the word is the same as it is reversed\n",
    "    else: #otherwise, if it is not a palindrome\n",
    "        return (False) #returns 'False' because word is not a palindrome\n",
    "        \n",
    "is_palindrome(\"Georgetown\") #tests non-palindrome"
   ]
  },
  {
   "cell_type": "code",
   "execution_count": 284,
   "metadata": {
    "collapsed": false
   },
   "outputs": [
    {
     "data": {
      "text/plain": [
       "True"
      ]
     },
     "execution_count": 284,
     "metadata": {},
     "output_type": "execute_result"
    }
   ],
   "source": [
    "is_palindrome (\"radar\") #tests palindrome"
   ]
  },
  {
   "cell_type": "code",
   "execution_count": 285,
   "metadata": {
    "collapsed": false
   },
   "outputs": [
    {
     "data": {
      "text/plain": [
       "True"
      ]
     },
     "execution_count": 285,
     "metadata": {},
     "output_type": "execute_result"
    }
   ],
   "source": [
    "#Question 10: Write a function is_member() that takes a value x and a list of values a;\n",
    "#returns True if x is a member of a, False otherwise\n",
    "\n",
    "def is_member(value_x,list_a): #defining the function \n",
    "\n",
    "    while value_x in list_a: #if x is a member of a\n",
    "        return (True) #then return true\n",
    "    else: #if x is not a member of a\n",
    "        return (False) #returns False\n",
    "    \n",
    "is_member('G', 'Gerhard') #testing with letters and words"
   ]
  },
  {
   "cell_type": "code",
   "execution_count": 286,
   "metadata": {
    "collapsed": false
   },
   "outputs": [
    {
     "data": {
      "text/plain": [
       "False"
      ]
     },
     "execution_count": 286,
     "metadata": {},
     "output_type": "execute_result"
    }
   ],
   "source": [
    "is_member ('G', 'Pilcher') #testing for False\""
   ]
  },
  {
   "cell_type": "code",
   "execution_count": 287,
   "metadata": {
    "collapsed": false
   },
   "outputs": [
    {
     "data": {
      "text/plain": [
       "True"
      ]
     },
     "execution_count": 287,
     "metadata": {},
     "output_type": "execute_result"
    }
   ],
   "source": [
    "is_member (55, [33,55,3]) #using numbers this time"
   ]
  },
  {
   "cell_type": "code",
   "execution_count": 308,
   "metadata": {
    "collapsed": false
   },
   "outputs": [
    {
     "data": {
      "text/plain": [
       "True"
      ]
     },
     "execution_count": 308,
     "metadata": {},
     "output_type": "execute_result"
    }
   ],
   "source": [
    "#Question 11: Define a function overlapping() that takes two lists \n",
    "#returns True if they have at least one member in common, False otherwise\n",
    "#May use is_member() function or in operator but should write it using two nested for-loops\n",
    "\n",
    "def overlapping(list_1, list_2): #defining the function\n",
    "    \n",
    "    for var1 in list_1: #var1 is a given member of list_1\n",
    "        for var2 in list_2: #var2 as a given member of list_2\n",
    "            while var2 == var1 or var1 == var2: #if the list_1 member and list_2 are equal and vice-versa, then..\n",
    "                return (True) #return True because they have at least one member in common\n",
    "            else: #otherwise\n",
    "                return (False) #returns False if no commonality between lists\n",
    "\n",
    "overlapping([1,3,5,7],[1,2,3,4,5]) #testing True"
   ]
  },
  {
   "cell_type": "code",
   "execution_count": 309,
   "metadata": {
    "collapsed": false
   },
   "outputs": [
    {
     "data": {
      "text/plain": [
       "False"
      ]
     },
     "execution_count": 309,
     "metadata": {},
     "output_type": "execute_result"
    }
   ],
   "source": [
    "overlapping([2,4,6,8],[1,3,5,7]) #testing False\""
   ]
  },
  {
   "cell_type": "code",
   "execution_count": 311,
   "metadata": {
    "collapsed": false
   },
   "outputs": [
    {
     "data": {
      "text/plain": [
       "'GGGGG'"
      ]
     },
     "execution_count": 311,
     "metadata": {},
     "output_type": "execute_result"
    }
   ],
   "source": [
    "#Question 12: Define a function generate_n_chars() that takes an integer n and a character c and returns a string\n",
    "#n characters long, consisting only of c:s\n",
    "#EX: generate_n_chars(5,\"x\") returns string \"xxxxx\"\n",
    "\n",
    "def generate_n_chars(n,c):\n",
    "    \n",
    "    string = '' #initialize an empty string\n",
    "    for integer in range( 0, n ): string += c #equivalent to string = string + c\n",
    "                                              #loops for an integer n within the range from 0 to n\n",
    "    return (string) #returns the string of characters for the amount of integers\n",
    "\n",
    "generate_n_chars(5, \"G\") "
   ]
  },
  {
   "cell_type": "code",
   "execution_count": 312,
   "metadata": {
    "collapsed": false
   },
   "outputs": [
    {
     "data": {
      "text/plain": [
       "'HAHAHAHAHAHAHAHAHAHA'"
      ]
     },
     "execution_count": 312,
     "metadata": {},
     "output_type": "execute_result"
    }
   ],
   "source": [
    "generate_n_chars(10,\"HA\") #when you find something really funny"
   ]
  },
  {
   "cell_type": "code",
   "execution_count": null,
   "metadata": {
    "collapsed": true
   },
   "outputs": [],
   "source": []
  }
 ],
 "metadata": {
  "kernelspec": {
   "display_name": "Python 3",
   "language": "python",
   "name": "python3"
  },
  "language_info": {
   "codemirror_mode": {
    "name": "ipython",
    "version": 3
   },
   "file_extension": ".py",
   "mimetype": "text/x-python",
   "name": "python",
   "nbconvert_exporter": "python",
   "pygments_lexer": "ipython3",
   "version": "3.5.1"
  }
 },
 "nbformat": 4,
 "nbformat_minor": 0
}
