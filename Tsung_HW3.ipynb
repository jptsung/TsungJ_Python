{
 "cells": [
  {
   "cell_type": "code",
   "execution_count": 1,
   "metadata": {
    "collapsed": false
   },
   "outputs": [
    {
     "name": "stdout",
     "output_type": "stream",
     "text": [
      "****\n",
      "*********\n",
      "*******\n"
     ]
    },
    {
     "data": {
      "text/plain": [
       "[4, 9, 7]"
      ]
     },
     "execution_count": 1,
     "metadata": {},
     "output_type": "execute_result"
    }
   ],
   "source": [
    "#Question 1: Define a procedure histogram () that takes a list of integers\n",
    "#and prints a histogram to the screen\n",
    "#EX: histogram([4, 9, 7])\n",
    "\n",
    "\"\"\"Prints a histogram using a for loop, checking the numbers over and over and printing out using an asterik\"\"\"\n",
    "\n",
    "def histogram (list): #defines a histogram\n",
    "    for n in range(0, len(list)): #for the number in the range from 0\n",
    "        print ('*' * list[n]) #prints out the * multiplied by the number n\n",
    "    return (list) #returns the list of numbers used\n",
    "\n",
    "histogram([4,9,7]) #prints histogram"
   ]
  },
  {
   "cell_type": "code",
   "execution_count": 6,
   "metadata": {
    "collapsed": false
   },
   "outputs": [
    {
     "data": {
      "text/plain": [
       "342"
      ]
     },
     "execution_count": 6,
     "metadata": {},
     "output_type": "execute_result"
    }
   ],
   "source": [
    "#Question 2: Write a function max_in_list() that takes a list of numbers and returns the largest one\n",
    "\n",
    "\"\"\"Uses a for and while loop to loop through the values and replace the maximum value with the next value if it's greater\"\"\"\n",
    "\n",
    "def max_in_list(list): #defines the function max_in_list\n",
    "    max = list[0] #initializes the first number as the max\n",
    "    for n in list: #for the number in the list\n",
    "        while n > max: #if or while the number n is greater or equal to max\n",
    "            max = n #loops through and replaces max into a new value if n is greater than max\n",
    "    return max #returns largest value\n",
    "\n",
    "max_in_list([55,342,3,1])"
   ]
  },
  {
   "cell_type": "code",
   "execution_count": 4,
   "metadata": {
    "collapsed": false
   },
   "outputs": [
    {
     "data": {
      "text/plain": [
       "[10, 10, 4, 4]"
      ]
     },
     "execution_count": 4,
     "metadata": {},
     "output_type": "execute_result"
    }
   ],
   "source": [
    "#Question 3: Write function that maps a list of words into a list of integers representing lengths of words\n",
    "\n",
    "\"\"\"Function maps a list of words into a list of integers representing lengths of words\"\"\"\n",
    "\n",
    "def words(list):\n",
    "    integer = [] #initializes the integer to a blank zero\n",
    "    for string in list:\n",
    "        integer.append(len(string)) #append function to add integers in the string of letters\n",
    "    return (integer) #returns the integer that coincides with the number of letters in the word\n",
    "\n",
    "words(['Georgetown','University','Hoya', 'Saxa'])"
   ]
  },
  {
   "cell_type": "code",
   "execution_count": 23,
   "metadata": {
    "collapsed": false
   },
   "outputs": [
    {
     "data": {
      "text/plain": [
       "10"
      ]
     },
     "execution_count": 23,
     "metadata": {},
     "output_type": "execute_result"
    }
   ],
   "source": [
    "#Question 4: Write a function find_longest_word() that takes a list of words and returns the length of the longest one.\n",
    "\n",
    "\"\"\"Function finds the longest word of a list of words and returns the length of that word using previous code\"\"\"\n",
    "\n",
    "def find_longest_word(list): #defines a function that finds the longest word\n",
    "    return max_in_list(words(list)) #returns by looping the Q3 function which found the integers representing word length\n",
    "                                    #loops within the max_in_list function to find the greatest number among the list produced\n",
    "find_longest_word(['Georgetown','University','Hoya', 'Saxa']) \n",
    "    "
   ]
  },
  {
   "cell_type": "code",
   "execution_count": 5,
   "metadata": {
    "collapsed": false
   },
   "outputs": [
    {
     "data": {
      "text/plain": [
       "['Georgetown', 'University']"
      ]
     },
     "execution_count": 5,
     "metadata": {},
     "output_type": "execute_result"
    }
   ],
   "source": [
    "#Question 5: Write a function filter_long_words() that takes a list of words and an integer n\n",
    "\n",
    "\"\"\"Function returns the list of words that are longer than n\"\"\"\n",
    "\n",
    "def filter_long_words(wordlist, n): #defines the function\n",
    "    listofwords = []\n",
    "    for words in wordlist: #for loop generates length of words and compares to n\n",
    "        if len(words) >= n:listofwords.append(words) #selects words with length greater than n\n",
    "    return (listofwords)\n",
    "filter_long_words (['Georgetown','University','Hoya', 'Saxa'],5)"
   ]
  },
  {
   "cell_type": "code",
   "execution_count": 113,
   "metadata": {
    "collapsed": false
   },
   "outputs": [
    {
     "data": {
      "text/plain": [
       "True"
      ]
     },
     "execution_count": 113,
     "metadata": {},
     "output_type": "execute_result"
    }
   ],
   "source": [
    "#Question 6: Write a version of a palindrome recognizer\n",
    "\n",
    "\"\"\"Function accepts phrase palindromes where punctuation, capitalization, spacing is ignored\"\"\"\n",
    "\n",
    "def palindrome(phrase): #defines function palindrome for a phrase       \n",
    "    \n",
    "    i=[n for n in phrase.lower() if n.isalpha()] #initialize 'i' to ignore capitalization, punctuation, and spacing\n",
    "    reverse=i[::-1] #reverses a string by [begin:end:step]; skips begin and end, and defines step as -1 to reverse\n",
    "    \n",
    "    while i==reverse:  #tests while initial phrase read forward is equalivalent to phrase read backwards\n",
    "        return (True) #returns 'True' if the word is the same as it is reversed\n",
    "    else: #otherwise, if it is not a palindrome\n",
    "        return (False) #returns 'False' because word is not a palindrome\n",
    "palindrome(\"Lisa Bonet ate no basil\")"
   ]
  },
  {
   "cell_type": "code",
   "execution_count": 73,
   "metadata": {
    "collapsed": false
   },
   "outputs": [
    {
     "data": {
      "text/plain": [
       "True"
      ]
     },
     "execution_count": 73,
     "metadata": {},
     "output_type": "execute_result"
    }
   ],
   "source": [
    "#Question 7: A pangram is a sentence that contains all the letters of the English alphabet at least once...\n",
    "\n",
    "\"\"\"Write a function to check a sentence to see if it is a panagram or not\"\"\"\n",
    "\n",
    "import re #imports the regular expression operation\n",
    "\n",
    "def pangram(sentence):\n",
    "    letters = \"AaBbCcDdEeFfGgHhIiJjKkLlMmNnOoPpQqRrSsTtUuVvWwXxYyZz\" #listing all letters upper and lowercased\n",
    "    count = 0 # initialize count to 0\n",
    "    string = \"\" #initalizes string\n",
    "    \n",
    "    if len(sentence) < 26: #if the sentence is below 26 characters, then it can't include every letter of the alpahabet\n",
    "        return (False) #returns false because doesn't include all letters of alphabet\n",
    "    else:\n",
    "        sentence = re.sub('^[a-zA-Z]','',sentence) #putting carat outside of bracket so any a-z or A-Z at the start of a line         \n",
    "        for n in range(len(letters)): #given that the range \n",
    "            if letters[n] in sentence: \n",
    "                count += 1 #then add all the letters to the count\n",
    "        while count == 26: #when the count includes the 26 letters\n",
    "            return True #then return True\n",
    "        else:\n",
    "            return False #returns False if not a pangram\n",
    "        \n",
    "pangram (\"The quick brown fox jumps over the lazy dog\")"
   ]
  },
  {
   "cell_type": "code",
   "execution_count": 80,
   "metadata": {
    "collapsed": false
   },
   "outputs": [
    {
     "name": "stdout",
     "output_type": "stream",
     "text": [
      "99 bottles of Coke on the wall, 99 bottles of Coke.\n",
      "Take one down, pass it around, 98 bottles of Coke on the wall.\n",
      " \n",
      "98 bottles of Coke on the wall, 98 bottles of Coke.\n",
      "Take one down, pass it around, 97 bottles of Coke on the wall.\n",
      " \n",
      "97 bottles of Coke on the wall, 97 bottles of Coke.\n",
      "Take one down, pass it around, 96 bottles of Coke on the wall.\n",
      " \n",
      "96 bottles of Coke on the wall, 96 bottles of Coke.\n",
      "Take one down, pass it around, 95 bottles of Coke on the wall.\n",
      " \n",
      "95 bottles of Coke on the wall, 95 bottles of Coke.\n",
      "Take one down, pass it around, 94 bottles of Coke on the wall.\n",
      " \n",
      "94 bottles of Coke on the wall, 94 bottles of Coke.\n",
      "Take one down, pass it around, 93 bottles of Coke on the wall.\n",
      " \n",
      "93 bottles of Coke on the wall, 93 bottles of Coke.\n",
      "Take one down, pass it around, 92 bottles of Coke on the wall.\n",
      " \n",
      "92 bottles of Coke on the wall, 92 bottles of Coke.\n",
      "Take one down, pass it around, 91 bottles of Coke on the wall.\n",
      " \n",
      "91 bottles of Coke on the wall, 91 bottles of Coke.\n",
      "Take one down, pass it around, 90 bottles of Coke on the wall.\n",
      " \n",
      "90 bottles of Coke on the wall, 90 bottles of Coke.\n",
      "Take one down, pass it around, 89 bottles of Coke on the wall.\n",
      " \n",
      "89 bottles of Coke on the wall, 89 bottles of Coke.\n",
      "Take one down, pass it around, 88 bottles of Coke on the wall.\n",
      " \n",
      "88 bottles of Coke on the wall, 88 bottles of Coke.\n",
      "Take one down, pass it around, 87 bottles of Coke on the wall.\n",
      " \n",
      "87 bottles of Coke on the wall, 87 bottles of Coke.\n",
      "Take one down, pass it around, 86 bottles of Coke on the wall.\n",
      " \n",
      "86 bottles of Coke on the wall, 86 bottles of Coke.\n",
      "Take one down, pass it around, 85 bottles of Coke on the wall.\n",
      " \n",
      "85 bottles of Coke on the wall, 85 bottles of Coke.\n",
      "Take one down, pass it around, 84 bottles of Coke on the wall.\n",
      " \n",
      "84 bottles of Coke on the wall, 84 bottles of Coke.\n",
      "Take one down, pass it around, 83 bottles of Coke on the wall.\n",
      " \n",
      "83 bottles of Coke on the wall, 83 bottles of Coke.\n",
      "Take one down, pass it around, 82 bottles of Coke on the wall.\n",
      " \n",
      "82 bottles of Coke on the wall, 82 bottles of Coke.\n",
      "Take one down, pass it around, 81 bottles of Coke on the wall.\n",
      " \n",
      "81 bottles of Coke on the wall, 81 bottles of Coke.\n",
      "Take one down, pass it around, 80 bottles of Coke on the wall.\n",
      " \n",
      "80 bottles of Coke on the wall, 80 bottles of Coke.\n",
      "Take one down, pass it around, 79 bottles of Coke on the wall.\n",
      " \n",
      "79 bottles of Coke on the wall, 79 bottles of Coke.\n",
      "Take one down, pass it around, 78 bottles of Coke on the wall.\n",
      " \n",
      "78 bottles of Coke on the wall, 78 bottles of Coke.\n",
      "Take one down, pass it around, 77 bottles of Coke on the wall.\n",
      " \n",
      "77 bottles of Coke on the wall, 77 bottles of Coke.\n",
      "Take one down, pass it around, 76 bottles of Coke on the wall.\n",
      " \n",
      "76 bottles of Coke on the wall, 76 bottles of Coke.\n",
      "Take one down, pass it around, 75 bottles of Coke on the wall.\n",
      " \n",
      "75 bottles of Coke on the wall, 75 bottles of Coke.\n",
      "Take one down, pass it around, 74 bottles of Coke on the wall.\n",
      " \n",
      "74 bottles of Coke on the wall, 74 bottles of Coke.\n",
      "Take one down, pass it around, 73 bottles of Coke on the wall.\n",
      " \n",
      "73 bottles of Coke on the wall, 73 bottles of Coke.\n",
      "Take one down, pass it around, 72 bottles of Coke on the wall.\n",
      " \n",
      "72 bottles of Coke on the wall, 72 bottles of Coke.\n",
      "Take one down, pass it around, 71 bottles of Coke on the wall.\n",
      " \n",
      "71 bottles of Coke on the wall, 71 bottles of Coke.\n",
      "Take one down, pass it around, 70 bottles of Coke on the wall.\n",
      " \n",
      "70 bottles of Coke on the wall, 70 bottles of Coke.\n",
      "Take one down, pass it around, 69 bottles of Coke on the wall.\n",
      " \n",
      "69 bottles of Coke on the wall, 69 bottles of Coke.\n",
      "Take one down, pass it around, 68 bottles of Coke on the wall.\n",
      " \n",
      "68 bottles of Coke on the wall, 68 bottles of Coke.\n",
      "Take one down, pass it around, 67 bottles of Coke on the wall.\n",
      " \n",
      "67 bottles of Coke on the wall, 67 bottles of Coke.\n",
      "Take one down, pass it around, 66 bottles of Coke on the wall.\n",
      " \n",
      "66 bottles of Coke on the wall, 66 bottles of Coke.\n",
      "Take one down, pass it around, 65 bottles of Coke on the wall.\n",
      " \n",
      "65 bottles of Coke on the wall, 65 bottles of Coke.\n",
      "Take one down, pass it around, 64 bottles of Coke on the wall.\n",
      " \n",
      "64 bottles of Coke on the wall, 64 bottles of Coke.\n",
      "Take one down, pass it around, 63 bottles of Coke on the wall.\n",
      " \n",
      "63 bottles of Coke on the wall, 63 bottles of Coke.\n",
      "Take one down, pass it around, 62 bottles of Coke on the wall.\n",
      " \n",
      "62 bottles of Coke on the wall, 62 bottles of Coke.\n",
      "Take one down, pass it around, 61 bottles of Coke on the wall.\n",
      " \n",
      "61 bottles of Coke on the wall, 61 bottles of Coke.\n",
      "Take one down, pass it around, 60 bottles of Coke on the wall.\n",
      " \n",
      "60 bottles of Coke on the wall, 60 bottles of Coke.\n",
      "Take one down, pass it around, 59 bottles of Coke on the wall.\n",
      " \n",
      "59 bottles of Coke on the wall, 59 bottles of Coke.\n",
      "Take one down, pass it around, 58 bottles of Coke on the wall.\n",
      " \n",
      "58 bottles of Coke on the wall, 58 bottles of Coke.\n",
      "Take one down, pass it around, 57 bottles of Coke on the wall.\n",
      " \n",
      "57 bottles of Coke on the wall, 57 bottles of Coke.\n",
      "Take one down, pass it around, 56 bottles of Coke on the wall.\n",
      " \n",
      "56 bottles of Coke on the wall, 56 bottles of Coke.\n",
      "Take one down, pass it around, 55 bottles of Coke on the wall.\n",
      " \n",
      "55 bottles of Coke on the wall, 55 bottles of Coke.\n",
      "Take one down, pass it around, 54 bottles of Coke on the wall.\n",
      " \n",
      "54 bottles of Coke on the wall, 54 bottles of Coke.\n",
      "Take one down, pass it around, 53 bottles of Coke on the wall.\n",
      " \n",
      "53 bottles of Coke on the wall, 53 bottles of Coke.\n",
      "Take one down, pass it around, 52 bottles of Coke on the wall.\n",
      " \n",
      "52 bottles of Coke on the wall, 52 bottles of Coke.\n",
      "Take one down, pass it around, 51 bottles of Coke on the wall.\n",
      " \n",
      "51 bottles of Coke on the wall, 51 bottles of Coke.\n",
      "Take one down, pass it around, 50 bottles of Coke on the wall.\n",
      " \n",
      "50 bottles of Coke on the wall, 50 bottles of Coke.\n",
      "Take one down, pass it around, 49 bottles of Coke on the wall.\n",
      " \n",
      "49 bottles of Coke on the wall, 49 bottles of Coke.\n",
      "Take one down, pass it around, 48 bottles of Coke on the wall.\n",
      " \n",
      "48 bottles of Coke on the wall, 48 bottles of Coke.\n",
      "Take one down, pass it around, 47 bottles of Coke on the wall.\n",
      " \n",
      "47 bottles of Coke on the wall, 47 bottles of Coke.\n",
      "Take one down, pass it around, 46 bottles of Coke on the wall.\n",
      " \n",
      "46 bottles of Coke on the wall, 46 bottles of Coke.\n",
      "Take one down, pass it around, 45 bottles of Coke on the wall.\n",
      " \n",
      "45 bottles of Coke on the wall, 45 bottles of Coke.\n",
      "Take one down, pass it around, 44 bottles of Coke on the wall.\n",
      " \n",
      "44 bottles of Coke on the wall, 44 bottles of Coke.\n",
      "Take one down, pass it around, 43 bottles of Coke on the wall.\n",
      " \n",
      "43 bottles of Coke on the wall, 43 bottles of Coke.\n",
      "Take one down, pass it around, 42 bottles of Coke on the wall.\n",
      " \n",
      "42 bottles of Coke on the wall, 42 bottles of Coke.\n",
      "Take one down, pass it around, 41 bottles of Coke on the wall.\n",
      " \n",
      "41 bottles of Coke on the wall, 41 bottles of Coke.\n",
      "Take one down, pass it around, 40 bottles of Coke on the wall.\n",
      " \n",
      "40 bottles of Coke on the wall, 40 bottles of Coke.\n",
      "Take one down, pass it around, 39 bottles of Coke on the wall.\n",
      " \n",
      "39 bottles of Coke on the wall, 39 bottles of Coke.\n",
      "Take one down, pass it around, 38 bottles of Coke on the wall.\n",
      " \n",
      "38 bottles of Coke on the wall, 38 bottles of Coke.\n",
      "Take one down, pass it around, 37 bottles of Coke on the wall.\n",
      " \n",
      "37 bottles of Coke on the wall, 37 bottles of Coke.\n",
      "Take one down, pass it around, 36 bottles of Coke on the wall.\n",
      " \n",
      "36 bottles of Coke on the wall, 36 bottles of Coke.\n",
      "Take one down, pass it around, 35 bottles of Coke on the wall.\n",
      " \n",
      "35 bottles of Coke on the wall, 35 bottles of Coke.\n",
      "Take one down, pass it around, 34 bottles of Coke on the wall.\n",
      " \n",
      "34 bottles of Coke on the wall, 34 bottles of Coke.\n",
      "Take one down, pass it around, 33 bottles of Coke on the wall.\n",
      " \n",
      "33 bottles of Coke on the wall, 33 bottles of Coke.\n",
      "Take one down, pass it around, 32 bottles of Coke on the wall.\n",
      " \n",
      "32 bottles of Coke on the wall, 32 bottles of Coke.\n",
      "Take one down, pass it around, 31 bottles of Coke on the wall.\n",
      " \n",
      "31 bottles of Coke on the wall, 31 bottles of Coke.\n",
      "Take one down, pass it around, 30 bottles of Coke on the wall.\n",
      " \n",
      "30 bottles of Coke on the wall, 30 bottles of Coke.\n",
      "Take one down, pass it around, 29 bottles of Coke on the wall.\n",
      " \n",
      "29 bottles of Coke on the wall, 29 bottles of Coke.\n",
      "Take one down, pass it around, 28 bottles of Coke on the wall.\n",
      " \n",
      "28 bottles of Coke on the wall, 28 bottles of Coke.\n",
      "Take one down, pass it around, 27 bottles of Coke on the wall.\n",
      " \n",
      "27 bottles of Coke on the wall, 27 bottles of Coke.\n",
      "Take one down, pass it around, 26 bottles of Coke on the wall.\n",
      " \n",
      "26 bottles of Coke on the wall, 26 bottles of Coke.\n",
      "Take one down, pass it around, 25 bottles of Coke on the wall.\n",
      " \n",
      "25 bottles of Coke on the wall, 25 bottles of Coke.\n",
      "Take one down, pass it around, 24 bottles of Coke on the wall.\n",
      " \n",
      "24 bottles of Coke on the wall, 24 bottles of Coke.\n",
      "Take one down, pass it around, 23 bottles of Coke on the wall.\n",
      " \n",
      "23 bottles of Coke on the wall, 23 bottles of Coke.\n",
      "Take one down, pass it around, 22 bottles of Coke on the wall.\n",
      " \n",
      "22 bottles of Coke on the wall, 22 bottles of Coke.\n",
      "Take one down, pass it around, 21 bottles of Coke on the wall.\n",
      " \n",
      "21 bottles of Coke on the wall, 21 bottles of Coke.\n",
      "Take one down, pass it around, 20 bottles of Coke on the wall.\n",
      " \n",
      "20 bottles of Coke on the wall, 20 bottles of Coke.\n",
      "Take one down, pass it around, 19 bottles of Coke on the wall.\n",
      " \n",
      "19 bottles of Coke on the wall, 19 bottles of Coke.\n",
      "Take one down, pass it around, 18 bottles of Coke on the wall.\n",
      " \n",
      "18 bottles of Coke on the wall, 18 bottles of Coke.\n",
      "Take one down, pass it around, 17 bottles of Coke on the wall.\n",
      " \n",
      "17 bottles of Coke on the wall, 17 bottles of Coke.\n",
      "Take one down, pass it around, 16 bottles of Coke on the wall.\n",
      " \n",
      "16 bottles of Coke on the wall, 16 bottles of Coke.\n",
      "Take one down, pass it around, 15 bottles of Coke on the wall.\n",
      " \n",
      "15 bottles of Coke on the wall, 15 bottles of Coke.\n",
      "Take one down, pass it around, 14 bottles of Coke on the wall.\n",
      " \n",
      "14 bottles of Coke on the wall, 14 bottles of Coke.\n",
      "Take one down, pass it around, 13 bottles of Coke on the wall.\n",
      " \n",
      "13 bottles of Coke on the wall, 13 bottles of Coke.\n",
      "Take one down, pass it around, 12 bottles of Coke on the wall.\n",
      " \n",
      "12 bottles of Coke on the wall, 12 bottles of Coke.\n",
      "Take one down, pass it around, 11 bottles of Coke on the wall.\n",
      " \n",
      "11 bottles of Coke on the wall, 11 bottles of Coke.\n",
      "Take one down, pass it around, 10 bottles of Coke on the wall.\n",
      " \n",
      "10 bottles of Coke on the wall, 10 bottles of Coke.\n",
      "Take one down, pass it around, 9 bottles of Coke on the wall.\n",
      " \n",
      "9 bottles of Coke on the wall, 9 bottles of Coke.\n",
      "Take one down, pass it around, 8 bottles of Coke on the wall.\n",
      " \n",
      "8 bottles of Coke on the wall, 8 bottles of Coke.\n",
      "Take one down, pass it around, 7 bottles of Coke on the wall.\n",
      " \n",
      "7 bottles of Coke on the wall, 7 bottles of Coke.\n",
      "Take one down, pass it around, 6 bottles of Coke on the wall.\n",
      " \n",
      "6 bottles of Coke on the wall, 6 bottles of Coke.\n",
      "Take one down, pass it around, 5 bottles of Coke on the wall.\n",
      " \n",
      "5 bottles of Coke on the wall, 5 bottles of Coke.\n",
      "Take one down, pass it around, 4 bottles of Coke on the wall.\n",
      " \n",
      "4 bottles of Coke on the wall, 4 bottles of Coke.\n",
      "Take one down, pass it around, 3 bottles of Coke on the wall.\n",
      " \n",
      "3 bottles of Coke on the wall, 3 bottles of Coke.\n",
      "Take one down, pass it around, 2 bottles of Coke on the wall.\n",
      " \n",
      "2 bottles of Coke on the wall, 2 bottles of Coke.\n",
      "Take one down, pass it around, 1 bottles of Coke on the wall.\n",
      " \n",
      "1 bottles of Coke on the wall, 1 bottles of Coke.\n",
      "Take one down, pass it around, 0 bottles of Coke on the wall.\n",
      " \n"
     ]
    }
   ],
   "source": [
    "#Question 8: write a Python program capable of generating all the verses of the song\n",
    "\n",
    "\"\"\"Function generates all the verses of the song through substitution\"\"\"\n",
    "\n",
    "def verses(n): #defines the function of n as a number\n",
    " \n",
    "    for x in range(n,0,-1): #loops the string x throughout the verse and subtracting by one at the end\n",
    "        print(str(x)+\" bottles of Coke on the wall, \"+ str(x) +\" bottles of Coke.\") \n",
    "        print(\"Take one down, pass it around, \"+ str(x-1) +\" bottles of Coke on the wall.\")\n",
    "        print (\" \") #prints a space between each verse\n",
    "         \n",
    "verses(99) #verse starts at 99 bottles"
   ]
  },
  {
   "cell_type": "code",
   "execution_count": 4,
   "metadata": {
    "collapsed": false
   },
   "outputs": [
    {
     "data": {
      "text/plain": [
       "['god', 'jul', 'och', 'gott', 'nytt', 'år']"
      ]
     },
     "execution_count": 4,
     "metadata": {},
     "output_type": "execute_result"
    }
   ],
   "source": [
    "#Question 9: Represent a small bilingual lexicon as a Python dictionary\n",
    "\n",
    "\"\"\"Function translate() takes list of English words and returns a list of Swedish words\"\"\"\n",
    "\n",
    "def translate(list):\n",
    "    dictionary = {\"merry\":\"god\", #assigns the dictionary of English words to Swedish words\n",
    "                  \"christmas\":\"jul\",\n",
    "                  \"and\":\"och\",\n",
    "                  \"happy\":\"gott\",\n",
    "                  \"new\":\"nytt\",\n",
    "                  \"year\":\"år\"}\n",
    "    translation = [] #initiatlize the translated result to blank zero\n",
    "\n",
    "    for word in list: \n",
    "        while word not in dictionary: #word is not in the mini dictionary\n",
    "            print (\"Cannot be translated\") #can't print a translation so print this statement instead\n",
    "        else: # if word is in dictionary\n",
    "            translation.append(dictionary[word]) #using the append function to append a passed word into the existing list\n",
    "    return translation\n",
    "\n",
    "translate([\"merry\", \"christmas\", \"and\", \"happy\", \"new\", \"year\"]) #testing the sentence"
   ]
  },
  {
   "cell_type": "code",
   "execution_count": 5,
   "metadata": {
    "collapsed": false
   },
   "outputs": [
    {
     "data": {
      "text/plain": [
       "{'a': 7, 'b': 14, 'c': 3, 'd': 3}"
      ]
     },
     "execution_count": 5,
     "metadata": {},
     "output_type": "execute_result"
    }
   ],
   "source": [
    "#Question 10: Write a function char_freq() that takes a string and builds a frequency listing of characters \n",
    "\n",
    "\"\"\"Function represents frequency as a Python dictionary; builds a frequency listing by taking a string\"\"\"\n",
    "\n",
    "def char_freq(string):\n",
    "    character = \"\" #initialize character\n",
    "    dictionary = {i: 0 for i in string} #initialize dictionary frequency to 0 in the string\n",
    "    \n",
    "    for n in string: dictionary[n] = dictionary[n] + 1 #for every n character in the string, count total appearances\n",
    "    return (dictionary) #returns the dictionary frequency\n",
    "\n",
    "char_freq(\"abbabcbdbabdbdbabababcbcbab\")\n"
   ]
  },
  {
   "cell_type": "code",
   "execution_count": 29,
   "metadata": {
    "collapsed": false
   },
   "outputs": [
    {
     "data": {
      "text/plain": [
       "'Caesar cipher? I much prefer Caesar salad!'"
      ]
     },
     "execution_count": 29,
     "metadata": {},
     "output_type": "execute_result"
    }
   ],
   "source": [
    "#Question 11: Caesar Cipher\n",
    "\n",
    "\"\"\"Function will implement an encoder/decoder of ROT-13\"\"\"\n",
    "\n",
    "def cipher(string): #defines the function cipher\n",
    "    list = {'a':'n', 'b':'o', 'c':'p', 'd':'q', 'e':'r', 'f':'s', 'g':'t', 'h':'u',\n",
    "            'i':'v', 'j':'w', 'k':'x', 'l':'y', 'm':'z', 'n':'a', 'o':'b', 'p':'c',\n",
    "            'q':'d', 'r':'e', 's':'f', 't':'g', 'u':'h', 'v':'i', 'w':'j', 'x':'k',\n",
    "            'y':'l', 'z':'m', 'A':'N', 'B':'O', 'C':'P', 'D':'Q', 'E':'R', 'F':'S',\n",
    "            'G':'T', 'H':'U', 'I':'V', 'J':'W', 'K':'X', 'L':'Y', 'M':'Z', 'N':'A',\n",
    "            'O':'B', 'P':'C', 'Q':'D', 'R':'E', 'S':'F', 'T':'G', 'U':'H', 'V':'I',\n",
    "            'W':'J', 'X':'K', 'Y':'L', 'Z':'M'} #lists the dictionary and translated characters\n",
    "    translation = '' #initiate translation to blank zero\n",
    "    keys = list.keys() #initiate keys to retrieve the keys as a list all at once\n",
    "    for i in string: #for loop with the characters in string\n",
    "        if i in keys:translation = translation + list[i] #replace dictionary values\n",
    "        else:\n",
    "            translation = translation + i #if not in list, then add character without the change\n",
    "    return translation\n",
    "\n",
    "cipher(\"Pnrfne pvcure? V zhpu cersre Pnrfne fnynq!\")"
   ]
  },
  {
   "cell_type": "code",
   "execution_count": 24,
   "metadata": {
    "collapsed": false
   },
   "outputs": [
    {
     "data": {
      "text/plain": [
       "'This is very funny and cool. Indeed!'"
      ]
     },
     "execution_count": 24,
     "metadata": {},
     "output_type": "execute_result"
    }
   ],
   "source": [
    "#Question 12: Define a simple \"spelling correction\" function correct() that takes a string\n",
    "\n",
    "\"\"\" Function correct() will take string and see that two+ spaces are compressed to one; inserts extra space after .\"\"\"\n",
    "\n",
    "import re #imports the re module which includes regular expression patterns\n",
    "\n",
    "def correct(string): #defines function correct()\n",
    "    string = re.sub(' +', ' ', string) #two or more occurrences of the space character is compressed into one\n",
    "    string = re.sub(r'\\.([^ ])', r'. \\1', string) #inserts an extra space after a period if the period is followed by letter\n",
    "    return (string) #returns the corrected string \n",
    "\n",
    "correct(\"This       is very funny and  cool.Indeed!\")"
   ]
  },
  {
   "cell_type": "code",
   "execution_count": 66,
   "metadata": {
    "collapsed": false
   },
   "outputs": [
    {
     "data": {
      "text/plain": [
       "'brushes'"
      ]
     },
     "execution_count": 66,
     "metadata": {},
     "output_type": "execute_result"
    }
   ],
   "source": [
    "#Question 13: Define a function make_3sg_form() which returns third person singular form\n",
    "\n",
    "\"\"\"Function makes verb in infinitive form return as third person singular form\"\"\"\n",
    "\n",
    "import re \n",
    "\n",
    "def make_3sg_form(verb): #defines function\n",
    "    while verb.endswith('y'): #while verb ends with a 'y', then...\n",
    "        return re.sub('y$', 'ies', verb) #substitutes the verb ending in 'y' for an 'ies'\n",
    "    i = ('ch', 'o', 's', 'sh', 'x', 'z') \n",
    "    while verb.endswith(i): #assuming verb ends in the above list of endings\n",
    "        return re.sub('$', 'es', verb) #replaces them with 'es'\n",
    "    else:\n",
    "        return re.sub('$', 's', verb) #all other endings end with an 's'\n",
    "\n",
    "make_3sg_form(\"brush\")"
   ]
  },
  {
   "cell_type": "code",
   "execution_count": 167,
   "metadata": {
    "collapsed": false
   },
   "outputs": [
    {
     "data": {
      "text/plain": [
       "'dreaming'"
      ]
     },
     "execution_count": 167,
     "metadata": {},
     "output_type": "execute_result"
    }
   ],
   "source": [
    "#Question 14: Define a function make_ing_form() \n",
    "\n",
    "\"\"\"Function that, given a verb in infinitive form, returns it in present participle form\"\"\" \n",
    "\n",
    "#If the verb ends in e, drop the e and add ing (if not exception: be, see, flee, knee, etc.)\n",
    "#If the verb ends in ie, change ie to y and add ing\n",
    "#For words consisting of consonant-vowel-consonant, double the final letter before adding ing\n",
    "#By default just add ing\n",
    "\n",
    "import re\n",
    "\n",
    "def make_ing_form(verb): \n",
    "    while verb.endswith(\"e\") and (verb[-2].endswith(\"e\") or len(verb) == 2): #for verb exceptions\n",
    "        return verb + \"ing\"  #don't drop anything, just add \"ing\"\n",
    "    while verb.endswith(\"e\"): #if just normal \"e\"\n",
    "        return verb[:-1] + \"ing\" #drop last character and replace with \"ing\"\n",
    "    while verb.endswith(\"ie\"): #verbs ending with \"ie\" \n",
    "        return verb[:-2] + \"ying\" #return by depleting last two characters and placing on \"ying\"\n",
    "    while re.search(\"[^aieou][aieuo][^aieou]$\", verb): #words consisting of consonant, vowel, consnant\n",
    "        return re.sub(\"(.)$\", r\"\\1\\1ing\", verb) #doubles final letter before adding ing, using substitution command\n",
    "    else: #otherwise, if just a consonant\n",
    "        return re.sub(\"$\", \"ing\", verb) #returns verb with \"ing\" if just default\"\n",
    "\n",
    "make_ing_form(\"dream\")"
   ]
  },
  {
   "cell_type": "code",
   "execution_count": null,
   "metadata": {
    "collapsed": true
   },
   "outputs": [],
   "source": []
  }
 ],
 "metadata": {
  "kernelspec": {
   "display_name": "Python 3",
   "language": "python",
   "name": "python3"
  },
  "language_info": {
   "codemirror_mode": {
    "name": "ipython",
    "version": 3
   },
   "file_extension": ".py",
   "mimetype": "text/x-python",
   "name": "python",
   "nbconvert_exporter": "python",
   "pygments_lexer": "ipython3",
   "version": "3.5.1"
  }
 },
 "nbformat": 4,
 "nbformat_minor": 0
}
